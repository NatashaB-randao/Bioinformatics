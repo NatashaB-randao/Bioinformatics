{
 "cells": [
  {
   "cell_type": "markdown",
   "metadata": {},
   "source": [
    "### Previsão de Múltiplas Doenças\n",
    "\n",
    "O projeto se baseia em um conjunto de dados disponível no Kaggle, que foi utilizado para verificar a saúde de indivíduos, determinando se apresentam alguma doença específica ou estão saudáveis. Essa avaliação é feita com base em amostras ou parâmetros sanguíneos. O conjunto de dados foi elaborado manualmente e está disponível para fins educacionais. A pesquisa envolveu a análise das percentagens de cada parâmetro e suas correlações com possíveis condições de saúde, tanto em casos de valores elevados quanto baixos. Com base nessas informações e nas pesquisas realizadas, o conjunto de dados foi criado com o objetivo de servir tanto para aprendizado quanto para inspirar projetos. Além disso, é importante notar que os dados já foram pré-processados e escalados para um intervalo entre 0 e 1. Você pode encontrar o conjunto de dados aqui: [Link para o Kaggle](https://www.kaggle.com/datasets/ehababoelnaga/multiple-disease-prediction/data)."
   ]
  },
  {
   "cell_type": "code",
   "execution_count": null,
   "metadata": {},
   "outputs": [],
   "source": []
  }
 ],
 "metadata": {
  "language_info": {
   "name": "python"
  }
 },
 "nbformat": 4,
 "nbformat_minor": 2
}
